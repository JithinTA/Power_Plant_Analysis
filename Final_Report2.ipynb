{
 "cells": [
  {
   "cell_type": "markdown",
   "id": "062b220f-87af-49aa-81a0-24390e83b4b4",
   "metadata": {},
   "source": [
    "# GLOBAL POWER GENERATION ANALYSIS: CAPACITY, FUEL SOURCES, AND PRODUCTION TRENDS BY COUNTRY"
   ]
  },
  {
   "cell_type": "markdown",
   "id": "8c392bce-8ddb-457c-b287-8c84893488c5",
   "metadata": {},
   "source": [
    "## Importing Necessary Libraries "
   ]
  },
  {
   "cell_type": "code",
   "execution_count": 2,
   "id": "fcb3432a-8e78-464d-9fa8-39ed29491f5d",
   "metadata": {},
   "outputs": [],
   "source": [
    "import numpy as np\n",
    "import pandas as pd\n",
    "import matplotlib.pyplot as plt\n",
    "import sqlalchemy as sal"
   ]
  },
  {
   "cell_type": "markdown",
   "id": "5f0d1965-9cfb-494c-b208-0d0a86d38005",
   "metadata": {},
   "source": [
    "## Importing Data"
   ]
  },
  {
   "cell_type": "code",
   "execution_count": 3,
   "id": "192c7b0f-87b0-46c5-b680-dbbb7e0a0416",
   "metadata": {},
   "outputs": [],
   "source": [
    "engine = sal.create_engine(f'mysql+pymysql://{username}:{password}@{host}:{port}/{database}')"
   ]
  },
  {
   "cell_type": "code",
   "execution_count": 38,
   "id": "c1268460-d6d8-468b-82e4-611685a21858",
   "metadata": {},
   "outputs": [],
   "source": [
    "A = pd.read_sql_table(\"q1_bottom_countrys\", engine)\n",
    "B = pd.read_sql_table(\"q1_top_countrys\", engine)\n",
    "C = pd.read_sql_table(\"q2\", engine)\n",
    "D = pd.read_sql_table(\"q3_windy\", engine)\n",
    "E = pd.read_sql_table(\"q4_sunny\", engine)\n",
    "F = pd.read_sql_table(\"q5_largest\", engine)"
   ]
  },
  {
   "cell_type": "code",
   "execution_count": 15,
   "id": "12262563-187f-419b-bd5f-aeda6cc000e3",
   "metadata": {},
   "outputs": [
    {
     "data": {
      "text/html": [
       "<div>\n",
       "<style scoped>\n",
       "    .dataframe tbody tr th:only-of-type {\n",
       "        vertical-align: middle;\n",
       "    }\n",
       "\n",
       "    .dataframe tbody tr th {\n",
       "        vertical-align: top;\n",
       "    }\n",
       "\n",
       "    .dataframe thead th {\n",
       "        text-align: right;\n",
       "    }\n",
       "</style>\n",
       "<table border=\"1\" class=\"dataframe\">\n",
       "  <thead>\n",
       "    <tr style=\"text-align: right;\">\n",
       "      <th></th>\n",
       "      <th>Country</th>\n",
       "      <th>Power_Plant_Name</th>\n",
       "      <th>Power_Plant_Code</th>\n",
       "      <th>Primary_Fuel</th>\n",
       "      <th>Capacity_MW</th>\n",
       "    </tr>\n",
       "  </thead>\n",
       "  <tbody>\n",
       "    <tr>\n",
       "      <th>0</th>\n",
       "      <td>China</td>\n",
       "      <td>Three Gorges Dam</td>\n",
       "      <td>WRI1000452</td>\n",
       "      <td>Hydro</td>\n",
       "      <td>22500.0</td>\n",
       "    </tr>\n",
       "    <tr>\n",
       "      <th>1</th>\n",
       "      <td>China</td>\n",
       "      <td>Baihetan Dam</td>\n",
       "      <td>WRI1070877</td>\n",
       "      <td>Hydro</td>\n",
       "      <td>13050.0</td>\n",
       "    </tr>\n",
       "    <tr>\n",
       "      <th>2</th>\n",
       "      <td>China</td>\n",
       "      <td>Xiluodu</td>\n",
       "      <td>WRI1000453</td>\n",
       "      <td>Hydro</td>\n",
       "      <td>12600.0</td>\n",
       "    </tr>\n",
       "    <tr>\n",
       "      <th>3</th>\n",
       "      <td>Russia</td>\n",
       "      <td>Surgutskaya GRES-2</td>\n",
       "      <td>WRI1003821</td>\n",
       "      <td>Gas</td>\n",
       "      <td>8865.0</td>\n",
       "    </tr>\n",
       "    <tr>\n",
       "      <th>4</th>\n",
       "      <td>Venezuela</td>\n",
       "      <td>Simon Bolivar (Guri)</td>\n",
       "      <td>WRI1018677</td>\n",
       "      <td>Hydro</td>\n",
       "      <td>8851.0</td>\n",
       "    </tr>\n",
       "    <tr>\n",
       "      <th>5</th>\n",
       "      <td>Brazil</td>\n",
       "      <td>Tucuruí</td>\n",
       "      <td>BRA0002889</td>\n",
       "      <td>Hydro</td>\n",
       "      <td>8535.0</td>\n",
       "    </tr>\n",
       "    <tr>\n",
       "      <th>6</th>\n",
       "      <td>Japan</td>\n",
       "      <td>Kashiwazaki Kariwa</td>\n",
       "      <td>WRI1000679</td>\n",
       "      <td>Nuclear</td>\n",
       "      <td>8212.0</td>\n",
       "    </tr>\n",
       "    <tr>\n",
       "      <th>7</th>\n",
       "      <td>Brazil</td>\n",
       "      <td>Itaipu (Parte Brasileira)</td>\n",
       "      <td>BRA0001161</td>\n",
       "      <td>Hydro</td>\n",
       "      <td>7000.0</td>\n",
       "    </tr>\n",
       "    <tr>\n",
       "      <th>8</th>\n",
       "      <td>China</td>\n",
       "      <td>East Hope Metals Wucaiwan power station</td>\n",
       "      <td>WRI1075600</td>\n",
       "      <td>Coal</td>\n",
       "      <td>7000.0</td>\n",
       "    </tr>\n",
       "    <tr>\n",
       "      <th>9</th>\n",
       "      <td>Paraguay</td>\n",
       "      <td>Itaipu Binacional Dam (Paraguay part)</td>\n",
       "      <td>WRI1022983</td>\n",
       "      <td>Hydro</td>\n",
       "      <td>7000.0</td>\n",
       "    </tr>\n",
       "    <tr>\n",
       "      <th>10</th>\n",
       "      <td>United States of America</td>\n",
       "      <td>Grand Coulee</td>\n",
       "      <td>USA0006163</td>\n",
       "      <td>Hydro</td>\n",
       "      <td>6809.0</td>\n",
       "    </tr>\n",
       "    <tr>\n",
       "      <th>11</th>\n",
       "      <td>Saudi Arabia</td>\n",
       "      <td>SHAIBA (SEC)</td>\n",
       "      <td>WRI1030705</td>\n",
       "      <td>Oil</td>\n",
       "      <td>6794.0</td>\n",
       "    </tr>\n",
       "    <tr>\n",
       "      <th>12</th>\n",
       "      <td>China</td>\n",
       "      <td>Datang Tuoketuo power station</td>\n",
       "      <td>WRI1070659</td>\n",
       "      <td>Coal</td>\n",
       "      <td>6720.0</td>\n",
       "    </tr>\n",
       "    <tr>\n",
       "      <th>13</th>\n",
       "      <td>China</td>\n",
       "      <td>Xiangjiaba</td>\n",
       "      <td>WRI1000454</td>\n",
       "      <td>Hydro</td>\n",
       "      <td>6448.0</td>\n",
       "    </tr>\n",
       "    <tr>\n",
       "      <th>14</th>\n",
       "      <td>China</td>\n",
       "      <td>Longtan</td>\n",
       "      <td>WRI1000455</td>\n",
       "      <td>Hydro</td>\n",
       "      <td>6300.0</td>\n",
       "    </tr>\n",
       "    <tr>\n",
       "      <th>15</th>\n",
       "      <td>Ukraine</td>\n",
       "      <td>Zaporozhye</td>\n",
       "      <td>WRI1005114</td>\n",
       "      <td>Nuclear</td>\n",
       "      <td>6000.0</td>\n",
       "    </tr>\n",
       "    <tr>\n",
       "      <th>16</th>\n",
       "      <td>Russia</td>\n",
       "      <td>Krasnoyarsk</td>\n",
       "      <td>WRI1003739</td>\n",
       "      <td>Hydro</td>\n",
       "      <td>6000.0</td>\n",
       "    </tr>\n",
       "    <tr>\n",
       "      <th>17</th>\n",
       "      <td>China</td>\n",
       "      <td>Gansu Wind Farm</td>\n",
       "      <td>WRI1023878</td>\n",
       "      <td>Wind</td>\n",
       "      <td>6000.0</td>\n",
       "    </tr>\n",
       "    <tr>\n",
       "      <th>18</th>\n",
       "      <td>South Korea</td>\n",
       "      <td>Hanul</td>\n",
       "      <td>WRI1000218</td>\n",
       "      <td>Nuclear</td>\n",
       "      <td>5900.0</td>\n",
       "    </tr>\n",
       "    <tr>\n",
       "      <th>19</th>\n",
       "      <td>South Korea</td>\n",
       "      <td>Hanbit</td>\n",
       "      <td>WRI1000217</td>\n",
       "      <td>Nuclear</td>\n",
       "      <td>5900.0</td>\n",
       "    </tr>\n",
       "  </tbody>\n",
       "</table>\n",
       "</div>"
      ],
      "text/plain": [
       "                     Country                         Power_Plant_Name  \\\n",
       "0                      China                         Three Gorges Dam   \n",
       "1                      China                             Baihetan Dam   \n",
       "2                      China                                  Xiluodu   \n",
       "3                     Russia                       Surgutskaya GRES-2   \n",
       "4                  Venezuela                     Simon Bolivar (Guri)   \n",
       "5                     Brazil                                  Tucuruí   \n",
       "6                      Japan                       Kashiwazaki Kariwa   \n",
       "7                     Brazil                Itaipu (Parte Brasileira)   \n",
       "8                      China  East Hope Metals Wucaiwan power station   \n",
       "9                   Paraguay    Itaipu Binacional Dam (Paraguay part)   \n",
       "10  United States of America                             Grand Coulee   \n",
       "11              Saudi Arabia                             SHAIBA (SEC)   \n",
       "12                     China            Datang Tuoketuo power station   \n",
       "13                     China                               Xiangjiaba   \n",
       "14                     China                                  Longtan   \n",
       "15                   Ukraine                               Zaporozhye   \n",
       "16                    Russia                              Krasnoyarsk   \n",
       "17                     China                          Gansu Wind Farm   \n",
       "18               South Korea                                    Hanul   \n",
       "19               South Korea                                   Hanbit   \n",
       "\n",
       "   Power_Plant_Code Primary_Fuel  Capacity_MW  \n",
       "0        WRI1000452        Hydro      22500.0  \n",
       "1        WRI1070877        Hydro      13050.0  \n",
       "2        WRI1000453        Hydro      12600.0  \n",
       "3        WRI1003821          Gas       8865.0  \n",
       "4        WRI1018677        Hydro       8851.0  \n",
       "5        BRA0002889        Hydro       8535.0  \n",
       "6        WRI1000679      Nuclear       8212.0  \n",
       "7        BRA0001161        Hydro       7000.0  \n",
       "8        WRI1075600         Coal       7000.0  \n",
       "9        WRI1022983        Hydro       7000.0  \n",
       "10       USA0006163        Hydro       6809.0  \n",
       "11       WRI1030705          Oil       6794.0  \n",
       "12       WRI1070659         Coal       6720.0  \n",
       "13       WRI1000454        Hydro       6448.0  \n",
       "14       WRI1000455        Hydro       6300.0  \n",
       "15       WRI1005114      Nuclear       6000.0  \n",
       "16       WRI1003739        Hydro       6000.0  \n",
       "17       WRI1023878         Wind       6000.0  \n",
       "18       WRI1000218      Nuclear       5900.0  \n",
       "19       WRI1000217      Nuclear       5900.0  "
      ]
     },
     "execution_count": 15,
     "metadata": {},
     "output_type": "execute_result"
    }
   ],
   "source": [
    "F"
   ]
  },
  {
   "cell_type": "markdown",
   "id": "0f360f02-876d-49df-ab4f-3758108b4f33",
   "metadata": {},
   "source": [
    "## Q1, What are the top ten countries with the most power generation capacity and the ten countrys with the least power generation capacity?"
   ]
  },
  {
   "cell_type": "markdown",
   "id": "443162f6-75ac-483f-bb66-d8df47e7e3d0",
   "metadata": {},
   "source": [
    "### Counries with the most power generation capacities are:"
   ]
  },
  {
   "cell_type": "code",
   "execution_count": 39,
   "id": "525e3ce6-3bb8-4b94-8d4d-8e0b6d974482",
   "metadata": {},
   "outputs": [
    {
     "data": {
      "image/png": "[encoded data removed]",
      "text/plain": [
       "<Figure size 640x480 with 1 Axes>"
      ]
     },
     "metadata": {},
     "output_type": "display_data"
    },
    {
     "data": {
      "text/plain": [
       "0                       China\n",
       "1    United States of America\n",
       "2                       India\n",
       "3                      Russia\n",
       "4                       Japan\n",
       "5                      Brazil\n",
       "6                      Canada\n",
       "7                     Germany\n",
       "8                      France\n",
       "9                 South Korea\n",
       "Name: Top_Countrys, dtype: object"
      ]
     },
     "execution_count": 39,
     "metadata": {},
     "output_type": "execute_result"
    }
   ],
   "source": [
    "Answer1a = B\n",
    "G = np.arange(0, 10)\n",
    "plt.bar(G, Answer1a[\"Capacity\"]/1000)\n",
    "plt.xlabel(\"Index\")\n",
    "plt.ylabel(\"Capacity_in_GW\")\n",
    "plt.xticks(G)\n",
    "plt.show()\n",
    "Answer1a[\"Top_Countrys\"]"
   ]
  },
  {
   "cell_type": "markdown",
   "id": "71871c4b-d9a4-49c3-a422-943c63a37d1e",
   "metadata": {},
   "source": [
    "### Countries with the least power generation capacities are"
   ]
  },
  {
   "cell_type": "code",
   "execution_count": 56,
   "id": "4fe97673-d84b-43e5-a862-76f525d0bab9",
   "metadata": {},
   "outputs": [
    {
     "data": {
      "image/png": "[encoded data removed]",
      "text/plain": [
       "<Figure size 640x480 with 1 Axes>"
      ]
     },
     "metadata": {},
     "output_type": "display_data"
    },
    {
     "data": {
      "text/plain": [
       "0                 Saint Lucia\n",
       "1                    Suriname\n",
       "2                   Palestine\n",
       "3                  Antarctica\n",
       "4               Guinea-Bissau\n",
       "5              Western Sahara\n",
       "6    Central African Republic\n",
       "7                     Burundi\n",
       "8                       Benin\n",
       "9                      Gambia\n",
       "Name: Bottom_Countrys, dtype: object"
      ]
     },
     "execution_count": 56,
     "metadata": {},
     "output_type": "execute_result"
    }
   ],
   "source": [
    "Answer1b = A\n",
    "G = np.arange(0, 10)\n",
    "plt.bar(G, Answer1b[\"Capacity\"], color = \"g\")\n",
    "plt.xlabel(\"Index\")\n",
    "plt.ylabel(\"Capacity_in_MW\")\n",
    "plt.xticks(G)\n",
    "plt.show()\n",
    "Answer1b[\"Bottom_Countrys\"]"
   ]
  },
  {
   "cell_type": "markdown",
   "id": "0b12829d-1307-43cd-bd71-21ed0a848eb3",
   "metadata": {},
   "source": [
    "## Q2, Which countries generated the most energy (estimated) from 2013 to 2017?"
   ]
  },
  {
   "cell_type": "code",
   "execution_count": 55,
   "id": "950ade77-01c5-4300-88b9-6c8586229085",
   "metadata": {},
   "outputs": [
    {
     "data": {
      "image/png": "[encoded data removed]",
      "text/plain": [
       "<Figure size 640x480 with 1 Axes>"
      ]
     },
     "metadata": {},
     "output_type": "display_data"
    },
    {
     "data": {
      "text/plain": [
       "0                       China\n",
       "1    United States of America\n",
       "2                       India\n",
       "3                      Brazil\n",
       "4                      Canada\n",
       "5                      Russia\n",
       "6                       Japan\n",
       "7                      France\n",
       "8                     Germany\n",
       "9                 South Korea\n",
       "Name: Countrys, dtype: object"
      ]
     },
     "execution_count": 55,
     "metadata": {},
     "output_type": "execute_result"
    }
   ],
   "source": [
    "Answer2 = C\n",
    "G = np.arange(0, 10)\n",
    "plt.bar(G, Answer2[\"Generation\"]/1000, color = \"brown\")\n",
    "plt.xlabel(\"Index\")\n",
    "plt.ylabel(\"Generation_in_TWH\")\n",
    "plt.xticks(G)\n",
    "plt.show()\n",
    "Answer2[\"Countrys\"]"
   ]
  },
  {
   "cell_type": "markdown",
   "id": "109b4ead-7736-484f-9c1d-ddb41b72cc42",
   "metadata": {},
   "source": [
    "## Q3, Which countries has the most wind generation capacity?"
   ]
  },
  {
   "cell_type": "markdown",
   "id": "5d42affe-22f9-4ec3-b51d-7671fdc83055",
   "metadata": {},
   "source": [
    "### NOTE: The dataset that this report is based on currently contains the estimated power generation capacity of about 72 percent of power plants all around the world. So the analysis may not be as accurate as an updated report. And the results may have some discrepancy with the actual values.  "
   ]
  },
  {
   "cell_type": "code",
   "execution_count": 58,
   "id": "0c429c38-5354-4654-90b2-60058a3603b0",
   "metadata": {},
   "outputs": [
    {
     "data": {
      "image/png": "[encoded data removed]",
      "text/plain": [
       "<Figure size 640x480 with 1 Axes>"
      ]
     },
     "metadata": {},
     "output_type": "display_data"
    }
   ],
   "source": [
    "Answer3 = D\n",
    "plt.pie(Answer3[\"Capacity\"]/1000, labels = Answer3[\"Country\"], autopct = \"%1.1f%%\")\n",
    "plt.show()"
   ]
  },
  {
   "cell_type": "markdown",
   "id": "0f89a740-62f7-41d4-90b4-776a372863a0",
   "metadata": {},
   "source": [
    "### The pie chart shows the contribution of a country to the top ten countries. i.e U.S.A wind generation capacity contributes 44 perecent to the wind generation capacity of the top ten countries. not the entire world."
   ]
  },
  {
   "cell_type": "markdown",
   "id": "d0f1ffb6-01cd-4b90-96e8-892b607c0cbc",
   "metadata": {},
   "source": [
    "## Q4, Which countries has the most solar energy capacity?"
   ]
  },
  {
   "cell_type": "markdown",
   "id": "d0a2d863-60ae-4b35-a2bc-0ed65ad61ddd",
   "metadata": {},
   "source": [
    "### NOTE: The dataset that this report is based on currently contains the estimated power generation capacity of about 72 percent of power plants all around the world. So the analysis may not be as accurate as an updated report. And the results may have some discrepancy with the actual values.  "
   ]
  },
  {
   "cell_type": "code",
   "execution_count": 59,
   "id": "306e0ead-75b3-41bf-a7b0-d2226e9e4859",
   "metadata": {},
   "outputs": [
    {
     "data": {
      "image/png": "[encoded data removed]",
      "text/plain": [
       "<Figure size 640x480 with 1 Axes>"
      ]
     },
     "metadata": {},
     "output_type": "display_data"
    }
   ],
   "source": [
    "Answer4 = E\n",
    "plt.pie(Answer4[\"Capacity\"]/1000, labels = Answer4[\"Country\"], autopct = \"%1.1f%%\")\n",
    "plt.show()"
   ]
  },
  {
   "cell_type": "markdown",
   "id": "f5381dce-e7e1-45bb-a938-32d83a73776d",
   "metadata": {},
   "source": [
    "### The pie chart shows the contribution of a country to the top ten countries. i.e China's Solar generation capacity contributes 35 perecent to the wind generation capacity of the top ten countries. not the entire world."
   ]
  },
  {
   "cell_type": "markdown",
   "id": "c91a2782-ae39-45b5-be7a-1193f8ccce48",
   "metadata": {},
   "source": [
    "## Q5, What are the larget power plants in the world, their capacity, primary fuel and location?"
   ]
  },
  {
   "cell_type": "code",
   "execution_count": 60,
   "id": "56ead38a-a856-4e1c-a903-cfd1197e103b",
   "metadata": {},
   "outputs": [
    {
     "data": {
      "text/html": [
       "<div>\n",
       "<style scoped>\n",
       "    .dataframe tbody tr th:only-of-type {\n",
       "        vertical-align: middle;\n",
       "    }\n",
       "\n",
       "    .dataframe tbody tr th {\n",
       "        vertical-align: top;\n",
       "    }\n",
       "\n",
       "    .dataframe thead th {\n",
       "        text-align: right;\n",
       "    }\n",
       "</style>\n",
       "<table border=\"1\" class=\"dataframe\">\n",
       "  <thead>\n",
       "    <tr style=\"text-align: right;\">\n",
       "      <th></th>\n",
       "      <th>Country</th>\n",
       "      <th>Power_Plant_Name</th>\n",
       "      <th>Power_Plant_Code</th>\n",
       "      <th>Primary_Fuel</th>\n",
       "      <th>Capacity_MW</th>\n",
       "    </tr>\n",
       "  </thead>\n",
       "  <tbody>\n",
       "    <tr>\n",
       "      <th>0</th>\n",
       "      <td>China</td>\n",
       "      <td>Three Gorges Dam</td>\n",
       "      <td>WRI1000452</td>\n",
       "      <td>Hydro</td>\n",
       "      <td>22500.0</td>\n",
       "    </tr>\n",
       "    <tr>\n",
       "      <th>1</th>\n",
       "      <td>China</td>\n",
       "      <td>Baihetan Dam</td>\n",
       "      <td>WRI1070877</td>\n",
       "      <td>Hydro</td>\n",
       "      <td>13050.0</td>\n",
       "    </tr>\n",
       "    <tr>\n",
       "      <th>2</th>\n",
       "      <td>China</td>\n",
       "      <td>Xiluodu</td>\n",
       "      <td>WRI1000453</td>\n",
       "      <td>Hydro</td>\n",
       "      <td>12600.0</td>\n",
       "    </tr>\n",
       "    <tr>\n",
       "      <th>3</th>\n",
       "      <td>Russia</td>\n",
       "      <td>Surgutskaya GRES-2</td>\n",
       "      <td>WRI1003821</td>\n",
       "      <td>Gas</td>\n",
       "      <td>8865.0</td>\n",
       "    </tr>\n",
       "    <tr>\n",
       "      <th>4</th>\n",
       "      <td>Venezuela</td>\n",
       "      <td>Simon Bolivar (Guri)</td>\n",
       "      <td>WRI1018677</td>\n",
       "      <td>Hydro</td>\n",
       "      <td>8851.0</td>\n",
       "    </tr>\n",
       "    <tr>\n",
       "      <th>5</th>\n",
       "      <td>Brazil</td>\n",
       "      <td>Tucuruí</td>\n",
       "      <td>BRA0002889</td>\n",
       "      <td>Hydro</td>\n",
       "      <td>8535.0</td>\n",
       "    </tr>\n",
       "    <tr>\n",
       "      <th>6</th>\n",
       "      <td>Japan</td>\n",
       "      <td>Kashiwazaki Kariwa</td>\n",
       "      <td>WRI1000679</td>\n",
       "      <td>Nuclear</td>\n",
       "      <td>8212.0</td>\n",
       "    </tr>\n",
       "    <tr>\n",
       "      <th>7</th>\n",
       "      <td>Brazil</td>\n",
       "      <td>Itaipu (Parte Brasileira)</td>\n",
       "      <td>BRA0001161</td>\n",
       "      <td>Hydro</td>\n",
       "      <td>7000.0</td>\n",
       "    </tr>\n",
       "    <tr>\n",
       "      <th>8</th>\n",
       "      <td>China</td>\n",
       "      <td>East Hope Metals Wucaiwan power station</td>\n",
       "      <td>WRI1075600</td>\n",
       "      <td>Coal</td>\n",
       "      <td>7000.0</td>\n",
       "    </tr>\n",
       "    <tr>\n",
       "      <th>9</th>\n",
       "      <td>Paraguay</td>\n",
       "      <td>Itaipu Binacional Dam (Paraguay part)</td>\n",
       "      <td>WRI1022983</td>\n",
       "      <td>Hydro</td>\n",
       "      <td>7000.0</td>\n",
       "    </tr>\n",
       "    <tr>\n",
       "      <th>10</th>\n",
       "      <td>United States of America</td>\n",
       "      <td>Grand Coulee</td>\n",
       "      <td>USA0006163</td>\n",
       "      <td>Hydro</td>\n",
       "      <td>6809.0</td>\n",
       "    </tr>\n",
       "    <tr>\n",
       "      <th>11</th>\n",
       "      <td>Saudi Arabia</td>\n",
       "      <td>SHAIBA (SEC)</td>\n",
       "      <td>WRI1030705</td>\n",
       "      <td>Oil</td>\n",
       "      <td>6794.0</td>\n",
       "    </tr>\n",
       "    <tr>\n",
       "      <th>12</th>\n",
       "      <td>China</td>\n",
       "      <td>Datang Tuoketuo power station</td>\n",
       "      <td>WRI1070659</td>\n",
       "      <td>Coal</td>\n",
       "      <td>6720.0</td>\n",
       "    </tr>\n",
       "    <tr>\n",
       "      <th>13</th>\n",
       "      <td>China</td>\n",
       "      <td>Xiangjiaba</td>\n",
       "      <td>WRI1000454</td>\n",
       "      <td>Hydro</td>\n",
       "      <td>6448.0</td>\n",
       "    </tr>\n",
       "    <tr>\n",
       "      <th>14</th>\n",
       "      <td>China</td>\n",
       "      <td>Longtan</td>\n",
       "      <td>WRI1000455</td>\n",
       "      <td>Hydro</td>\n",
       "      <td>6300.0</td>\n",
       "    </tr>\n",
       "    <tr>\n",
       "      <th>15</th>\n",
       "      <td>Ukraine</td>\n",
       "      <td>Zaporozhye</td>\n",
       "      <td>WRI1005114</td>\n",
       "      <td>Nuclear</td>\n",
       "      <td>6000.0</td>\n",
       "    </tr>\n",
       "    <tr>\n",
       "      <th>16</th>\n",
       "      <td>Russia</td>\n",
       "      <td>Krasnoyarsk</td>\n",
       "      <td>WRI1003739</td>\n",
       "      <td>Hydro</td>\n",
       "      <td>6000.0</td>\n",
       "    </tr>\n",
       "    <tr>\n",
       "      <th>17</th>\n",
       "      <td>China</td>\n",
       "      <td>Gansu Wind Farm</td>\n",
       "      <td>WRI1023878</td>\n",
       "      <td>Wind</td>\n",
       "      <td>6000.0</td>\n",
       "    </tr>\n",
       "    <tr>\n",
       "      <th>18</th>\n",
       "      <td>South Korea</td>\n",
       "      <td>Hanul</td>\n",
       "      <td>WRI1000218</td>\n",
       "      <td>Nuclear</td>\n",
       "      <td>5900.0</td>\n",
       "    </tr>\n",
       "    <tr>\n",
       "      <th>19</th>\n",
       "      <td>South Korea</td>\n",
       "      <td>Hanbit</td>\n",
       "      <td>WRI1000217</td>\n",
       "      <td>Nuclear</td>\n",
       "      <td>5900.0</td>\n",
       "    </tr>\n",
       "  </tbody>\n",
       "</table>\n",
       "</div>"
      ],
      "text/plain": [
       "                     Country                         Power_Plant_Name  \\\n",
       "0                      China                         Three Gorges Dam   \n",
       "1                      China                             Baihetan Dam   \n",
       "2                      China                                  Xiluodu   \n",
       "3                     Russia                       Surgutskaya GRES-2   \n",
       "4                  Venezuela                     Simon Bolivar (Guri)   \n",
       "5                     Brazil                                  Tucuruí   \n",
       "6                      Japan                       Kashiwazaki Kariwa   \n",
       "7                     Brazil                Itaipu (Parte Brasileira)   \n",
       "8                      China  East Hope Metals Wucaiwan power station   \n",
       "9                   Paraguay    Itaipu Binacional Dam (Paraguay part)   \n",
       "10  United States of America                             Grand Coulee   \n",
       "11              Saudi Arabia                             SHAIBA (SEC)   \n",
       "12                     China            Datang Tuoketuo power station   \n",
       "13                     China                               Xiangjiaba   \n",
       "14                     China                                  Longtan   \n",
       "15                   Ukraine                               Zaporozhye   \n",
       "16                    Russia                              Krasnoyarsk   \n",
       "17                     China                          Gansu Wind Farm   \n",
       "18               South Korea                                    Hanul   \n",
       "19               South Korea                                   Hanbit   \n",
       "\n",
       "   Power_Plant_Code Primary_Fuel  Capacity_MW  \n",
       "0        WRI1000452        Hydro      22500.0  \n",
       "1        WRI1070877        Hydro      13050.0  \n",
       "2        WRI1000453        Hydro      12600.0  \n",
       "3        WRI1003821          Gas       8865.0  \n",
       "4        WRI1018677        Hydro       8851.0  \n",
       "5        BRA0002889        Hydro       8535.0  \n",
       "6        WRI1000679      Nuclear       8212.0  \n",
       "7        BRA0001161        Hydro       7000.0  \n",
       "8        WRI1075600         Coal       7000.0  \n",
       "9        WRI1022983        Hydro       7000.0  \n",
       "10       USA0006163        Hydro       6809.0  \n",
       "11       WRI1030705          Oil       6794.0  \n",
       "12       WRI1070659         Coal       6720.0  \n",
       "13       WRI1000454        Hydro       6448.0  \n",
       "14       WRI1000455        Hydro       6300.0  \n",
       "15       WRI1005114      Nuclear       6000.0  \n",
       "16       WRI1003739        Hydro       6000.0  \n",
       "17       WRI1023878         Wind       6000.0  \n",
       "18       WRI1000218      Nuclear       5900.0  \n",
       "19       WRI1000217      Nuclear       5900.0  "
      ]
     },
     "execution_count": 60,
     "metadata": {},
     "output_type": "execute_result"
    }
   ],
   "source": [
    "Answer5 = F\n",
    "Answer5"
   ]
  }
 ],
 "metadata": {
  "kernelspec": {
   "display_name": "Python 3 (ipykernel)",
   "language": "python",
   "name": "python3"
  },
  "language_info": {
   "codemirror_mode": {
    "name": "ipython",
    "version": 3
   },
   "file_extension": ".py",
   "mimetype": "text/x-python",
   "name": "python",
   "nbconvert_exporter": "python",
   "pygments_lexer": "ipython3",
   "version": "3.13.1"
  }
 },
 "nbformat": 4,
 "nbformat_minor": 5
}
